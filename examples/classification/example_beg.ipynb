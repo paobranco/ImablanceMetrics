{
 "cells": [
  {
   "attachments": {},
   "cell_type": "markdown",
   "metadata": {},
   "source": [
    "# ImbalancedDomainsMetrics (Classification): Usage\n",
    "## Example 1: Beginner"
   ]
  },
  {
   "attachments": {},
   "cell_type": "markdown",
   "metadata": {},
   "source": [
    "## Dependencies\n",
    "First, we load the required dependencies. Here we import classification_metrics from imbalanced_metrics to evalute the result we get from the SVM. In addition, we use pandas for data handling, and train_test_split to split the dataset."
   ]
  },
  {
   "cell_type": "code",
   "execution_count": 1,
   "metadata": {},
   "outputs": [],
   "source": [
    "# load dependencies\n",
    "from imbalanced_metrics import classification_metrics as cm\n",
    "from sklearn import svm\n",
    "import pandas as pd\n",
    "from sklearn.model_selection import train_test_split"
   ]
  },
  {
   "attachments": {},
   "cell_type": "markdown",
   "metadata": {},
   "source": [
    "## Data\n",
    "After, we load our data.\n"
   ]
  },
  {
   "cell_type": "code",
   "execution_count": 2,
   "metadata": {},
   "outputs": [
    {
     "data": {
      "text/html": [
       "<div>\n",
       "<style scoped>\n",
       "    .dataframe tbody tr th:only-of-type {\n",
       "        vertical-align: middle;\n",
       "    }\n",
       "\n",
       "    .dataframe tbody tr th {\n",
       "        vertical-align: top;\n",
       "    }\n",
       "\n",
       "    .dataframe thead th {\n",
       "        text-align: right;\n",
       "    }\n",
       "</style>\n",
       "<table border=\"1\" class=\"dataframe\">\n",
       "  <thead>\n",
       "    <tr style=\"text-align: right;\">\n",
       "      <th></th>\n",
       "      <th>0</th>\n",
       "      <th>1</th>\n",
       "      <th>2</th>\n",
       "      <th>3</th>\n",
       "      <th>4</th>\n",
       "      <th>5</th>\n",
       "      <th>6</th>\n",
       "      <th>7</th>\n",
       "      <th>8</th>\n",
       "      <th>9</th>\n",
       "    </tr>\n",
       "  </thead>\n",
       "  <tbody>\n",
       "    <tr>\n",
       "      <th>0</th>\n",
       "      <td>1.52101</td>\n",
       "      <td>13.64</td>\n",
       "      <td>4.49</td>\n",
       "      <td>1.10</td>\n",
       "      <td>71.78</td>\n",
       "      <td>0.06</td>\n",
       "      <td>8.75</td>\n",
       "      <td>0.0</td>\n",
       "      <td>0.0</td>\n",
       "      <td>1</td>\n",
       "    </tr>\n",
       "    <tr>\n",
       "      <th>1</th>\n",
       "      <td>1.51761</td>\n",
       "      <td>13.89</td>\n",
       "      <td>3.60</td>\n",
       "      <td>1.36</td>\n",
       "      <td>72.73</td>\n",
       "      <td>0.48</td>\n",
       "      <td>7.83</td>\n",
       "      <td>0.0</td>\n",
       "      <td>0.0</td>\n",
       "      <td>1</td>\n",
       "    </tr>\n",
       "    <tr>\n",
       "      <th>2</th>\n",
       "      <td>1.51618</td>\n",
       "      <td>13.53</td>\n",
       "      <td>3.55</td>\n",
       "      <td>1.54</td>\n",
       "      <td>72.99</td>\n",
       "      <td>0.39</td>\n",
       "      <td>7.78</td>\n",
       "      <td>0.0</td>\n",
       "      <td>0.0</td>\n",
       "      <td>1</td>\n",
       "    </tr>\n",
       "    <tr>\n",
       "      <th>3</th>\n",
       "      <td>1.51766</td>\n",
       "      <td>13.21</td>\n",
       "      <td>3.69</td>\n",
       "      <td>1.29</td>\n",
       "      <td>72.61</td>\n",
       "      <td>0.57</td>\n",
       "      <td>8.22</td>\n",
       "      <td>0.0</td>\n",
       "      <td>0.0</td>\n",
       "      <td>1</td>\n",
       "    </tr>\n",
       "    <tr>\n",
       "      <th>4</th>\n",
       "      <td>1.51742</td>\n",
       "      <td>13.27</td>\n",
       "      <td>3.62</td>\n",
       "      <td>1.24</td>\n",
       "      <td>73.08</td>\n",
       "      <td>0.55</td>\n",
       "      <td>8.07</td>\n",
       "      <td>0.0</td>\n",
       "      <td>0.0</td>\n",
       "      <td>1</td>\n",
       "    </tr>\n",
       "  </tbody>\n",
       "</table>\n",
       "</div>"
      ],
      "text/plain": [
       "         0      1     2     3      4     5     6    7    8  9\n",
       "0  1.52101  13.64  4.49  1.10  71.78  0.06  8.75  0.0  0.0  1\n",
       "1  1.51761  13.89  3.60  1.36  72.73  0.48  7.83  0.0  0.0  1\n",
       "2  1.51618  13.53  3.55  1.54  72.99  0.39  7.78  0.0  0.0  1\n",
       "3  1.51766  13.21  3.69  1.29  72.61  0.57  8.22  0.0  0.0  1\n",
       "4  1.51742  13.27  3.62  1.24  73.08  0.55  8.07  0.0  0.0  1"
      ]
     },
     "execution_count": 2,
     "metadata": {},
     "output_type": "execute_result"
    }
   ],
   "source": [
    "# load data\n",
    "df = pd.read_csv(\n",
    "    'https://raw.githubusercontent.com/paobranco/ImbalanceMetrics/main/data/glass.csv', header=None\n",
    ")\n",
    "df.head()"
   ]
  },
  {
   "cell_type": "code",
   "execution_count": 3,
   "metadata": {},
   "outputs": [],
   "source": [
    "# Assign x and y values from the dataframe\n",
    "X = df.drop(columns=[9])\n",
    "y = df[9]"
   ]
  },
  {
   "cell_type": "code",
   "execution_count": 4,
   "metadata": {},
   "outputs": [],
   "source": [
    "X_train, X_test, y_train, y_test = train_test_split(X, y, test_size=0.33)"
   ]
  },
  {
   "attachments": {},
   "cell_type": "markdown",
   "metadata": {},
   "source": [
    "## Model\n",
    "After, we train our model with data. In this example, we use the `svm.SVC()` from sklearn. This model will predict as y_pred which we will compare with true test value y in our evaluation."
   ]
  },
  {
   "cell_type": "code",
   "execution_count": 5,
   "metadata": {},
   "outputs": [],
   "source": [
    "clf = svm.SVC(kernel=\"linear\", probability=True, random_state=0)\n",
    "clf.fit(X_train,y_train)\n",
    "y_pred=clf.predict_proba(X_test)"
   ]
  },
  {
   "attachments": {},
   "cell_type": "markdown",
   "metadata": {},
   "source": [
    "## Evaluation"
   ]
  },
  {
   "attachments": {},
   "cell_type": "markdown",
   "metadata": {},
   "source": [
    "Now we will evaluate the prediction using the metrics from classification_metrics. Here we are using Precision-Recall AUC using Davis method."
   ]
  },
  {
   "attachments": {},
   "cell_type": "markdown",
   "metadata": {},
   "source": [
    "First, we will be using default value None as pos_label. When pos_label = None, the minority class is selected as pos_label. In this example, 1 is the minority class so here pos_label = 1."
   ]
  },
  {
   "cell_type": "code",
   "execution_count": 6,
   "metadata": {},
   "outputs": [
    {
     "name": "stdout",
     "output_type": "stream",
     "text": [
      "Using 6 as minority class\n"
     ]
    },
    {
     "data": {
      "text/plain": [
       "0.5138888888888888"
      ]
     },
     "execution_count": 6,
     "metadata": {},
     "output_type": "execute_result"
    }
   ],
   "source": [
    "# Here we set default None as positive label so the monority class can be seleted as positive class.\n",
    "cm.pr_davis(y_test, y_pred)"
   ]
  },
  {
   "attachments": {},
   "cell_type": "markdown",
   "metadata": {},
   "source": [
    "Next, we will be using value 7 as pos_label. This means 7 will be treated as the positive label for the dataset. This time we will also pass True as return_pr so the function also returns presicion and recall alongside davis auc."
   ]
  },
  {
   "cell_type": "code",
   "execution_count": 7,
   "metadata": {},
   "outputs": [
    {
     "data": {
      "text/plain": [
       "(array([0.24137931, 0.22807018, 0.23214286, 0.23636364, 0.24074074,\n",
       "        0.24528302, 0.25      , 0.23529412, 0.24      , 0.24489796,\n",
       "        0.25      , 0.25531915, 0.26086957, 0.26666667, 0.27272727,\n",
       "        0.27906977, 0.28571429, 0.29268293, 0.3       , 0.30769231,\n",
       "        0.31578947, 0.32432432, 0.33333333, 0.34285714, 0.35294118,\n",
       "        0.36363636, 0.375     , 0.38709677, 0.4       , 0.37931034,\n",
       "        0.39285714, 0.40740741, 0.42307692, 0.44      , 0.45833333,\n",
       "        0.47826087, 0.5       , 0.47619048, 0.5       , 0.47368421,\n",
       "        0.5       , 0.52941176, 0.5625    , 0.6       , 0.64285714,\n",
       "        0.69230769, 0.75      , 0.72727273, 0.8       , 0.88888889,\n",
       "        0.875     , 0.85714286, 0.83333333, 0.8       , 0.75      ,\n",
       "        0.66666667, 0.5       , 0.        , 1.        ]),\n",
       " array([1.        , 0.92857143, 0.92857143, 0.92857143, 0.92857143,\n",
       "        0.92857143, 0.92857143, 0.85714286, 0.85714286, 0.85714286,\n",
       "        0.85714286, 0.85714286, 0.85714286, 0.85714286, 0.85714286,\n",
       "        0.85714286, 0.85714286, 0.85714286, 0.85714286, 0.85714286,\n",
       "        0.85714286, 0.85714286, 0.85714286, 0.85714286, 0.85714286,\n",
       "        0.85714286, 0.85714286, 0.85714286, 0.85714286, 0.78571429,\n",
       "        0.78571429, 0.78571429, 0.78571429, 0.78571429, 0.78571429,\n",
       "        0.78571429, 0.78571429, 0.71428571, 0.71428571, 0.64285714,\n",
       "        0.64285714, 0.64285714, 0.64285714, 0.64285714, 0.64285714,\n",
       "        0.64285714, 0.64285714, 0.57142857, 0.57142857, 0.57142857,\n",
       "        0.5       , 0.42857143, 0.35714286, 0.28571429, 0.21428571,\n",
       "        0.14285714, 0.07142857, 0.        , 0.        ]),\n",
       " 0.5933705701936497)"
      ]
     },
     "execution_count": 7,
     "metadata": {},
     "output_type": "execute_result"
    }
   ],
   "source": [
    "# Here we set 0 as positive label\n",
    "cm.pr_davis(y_test, y_pred,return_pr=True,pos_label=7)\n"
   ]
  },
  {
   "attachments": {},
   "cell_type": "markdown",
   "metadata": {},
   "source": [
    "After Davis method, we are using Precision-Recall AUC using Manning method."
   ]
  },
  {
   "attachments": {},
   "cell_type": "markdown",
   "metadata": {},
   "source": [
    "Like Davis method, we will be using default value None as pos_label first. This means minority class 6 will be treated as the positive label for the dataset.  "
   ]
  },
  {
   "cell_type": "code",
   "execution_count": 8,
   "metadata": {},
   "outputs": [
    {
     "name": "stdout",
     "output_type": "stream",
     "text": [
      "Using 6 as minority class\n"
     ]
    },
    {
     "data": {
      "text/plain": [
       "0.75"
      ]
     },
     "execution_count": 8,
     "metadata": {},
     "output_type": "execute_result"
    }
   ],
   "source": [
    "# Here we set default None as positive label so the monority class can be seleted as positive class.\n",
    "cm.pr_manning(y_test, y_pred)"
   ]
  },
  {
   "attachments": {},
   "cell_type": "markdown",
   "metadata": {},
   "source": [
    "Next, we will be using value 7 as pos_label. This means 7 will be treated as the positive label for the dataset. This time we will also pass True as return_pr so the function also returns presicion and recall alongside manning auc."
   ]
  },
  {
   "cell_type": "code",
   "execution_count": 9,
   "metadata": {},
   "outputs": [
    {
     "data": {
      "text/plain": [
       "(array([1.        , 0.88888889, 0.88888889, 0.88888889, 0.88888889,\n",
       "        0.88888889, 0.88888889, 0.88888889, 0.88888889, 0.88888889,\n",
       "        0.8       , 0.75      , 0.75      , 0.69230769, 0.64285714,\n",
       "        0.6       , 0.5625    , 0.52941176, 0.5       , 0.5       ,\n",
       "        0.5       , 0.5       , 0.5       , 0.47826087, 0.45833333,\n",
       "        0.44      , 0.42307692, 0.40740741, 0.4       , 0.4       ,\n",
       "        0.4       , 0.38709677, 0.375     , 0.36363636, 0.35294118,\n",
       "        0.34285714, 0.33333333, 0.32432432, 0.31578947, 0.30769231,\n",
       "        0.3       , 0.29268293, 0.28571429, 0.27906977, 0.27272727,\n",
       "        0.26666667, 0.26086957, 0.25531915, 0.25      , 0.25      ,\n",
       "        0.25      , 0.25      , 0.25      , 0.24528302, 0.24137931,\n",
       "        0.24137931, 0.24137931, 0.24137931, 0.24137931, 0.23728814,\n",
       "        0.23333333, 0.2295082 , 0.22580645, 0.22222222, 0.21538462,\n",
       "        0.21212121, 0.20895522, 0.20588235, 0.20289855, 0.2       ,\n",
       "        0.1971831 ]),\n",
       " array([0.        , 0.        , 0.07142857, 0.14285714, 0.21428571,\n",
       "        0.28571429, 0.35714286, 0.42857143, 0.5       , 0.57142857,\n",
       "        0.57142857, 0.57142857, 0.64285714, 0.64285714, 0.64285714,\n",
       "        0.64285714, 0.64285714, 0.64285714, 0.64285714, 0.64285714,\n",
       "        0.71428571, 0.71428571, 0.78571429, 0.78571429, 0.78571429,\n",
       "        0.78571429, 0.78571429, 0.78571429, 0.78571429, 0.78571429,\n",
       "        0.85714286, 0.85714286, 0.85714286, 0.85714286, 0.85714286,\n",
       "        0.85714286, 0.85714286, 0.85714286, 0.85714286, 0.85714286,\n",
       "        0.85714286, 0.85714286, 0.85714286, 0.85714286, 0.85714286,\n",
       "        0.85714286, 0.85714286, 0.85714286, 0.85714286, 0.85714286,\n",
       "        0.85714286, 0.85714286, 0.92857143, 0.92857143, 0.92857143,\n",
       "        0.92857143, 0.92857143, 0.92857143, 1.        , 1.        ,\n",
       "        1.        , 1.        , 1.        , 1.        , 1.        ,\n",
       "        1.        , 1.        , 1.        , 1.        , 1.        ,\n",
       "        1.        ]),\n",
       " 0.6966064586754241)"
      ]
     },
     "execution_count": 9,
     "metadata": {},
     "output_type": "execute_result"
    }
   ],
   "source": [
    "# Here we set 0 as positive label\n",
    "cm.pr_manning(y_test, y_pred,return_pr=True,pos_label=7)"
   ]
  },
  {
   "attachments": {},
   "cell_type": "markdown",
   "metadata": {},
   "source": [
    "## Conclusion\n",
    "\n",
    "In this package, we have presented a set of evaluation metrics specifically designed for imbalanced domains. Our package, \"ImbalancedDomainsMetrics\", provides a comprehensive set of evaluation metrics to assess the performance of machine learning models trained on imbalanced datasets.\n",
    "\n",
    "Our package includes several evaluation metrics that address the challenges of imbalanced domains. These metrics can provide a more accurate assessment of model performance than traditional metrics, which can be misleading in imbalanced domains.\n",
    "\n",
    "To learn more about our package, please refer to the documentation, which includes detailed descriptions of all the available metrics and their usage."
   ]
  }
 ],
 "metadata": {
  "kernelspec": {
   "display_name": "Python 3",
   "language": "python",
   "name": "python3"
  },
  "language_info": {
   "codemirror_mode": {
    "name": "ipython",
    "version": 3
   },
   "file_extension": ".py",
   "mimetype": "text/x-python",
   "name": "python",
   "nbconvert_exporter": "python",
   "pygments_lexer": "ipython3",
   "version": "3.10.9"
  },
  "orig_nbformat": 4,
  "vscode": {
   "interpreter": {
    "hash": "94a785af1193d76d93209509f96efa5fea05cc7bc5e0b97b40dbaa0c7dd300a2"
   }
  }
 },
 "nbformat": 4,
 "nbformat_minor": 2
}
